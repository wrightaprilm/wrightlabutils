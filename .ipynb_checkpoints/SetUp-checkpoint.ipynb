{
 "cells": [
  {
   "cell_type": "code",
   "execution_count": null,
   "metadata": {},
   "outputs": [],
   "source": [
    "from setuptools import setup\n",
    "\n",
    "\n"
   ]
  },
  {
   "cell_type": "code",
   "execution_count": null,
   "metadata": {},
   "outputs": [],
   "source": [
    "setup(name='tefbdparser',\n",
    "      version='0.1',\n",
    "      description='Package for parsing input files for RevBayes TEFBD analysis',\n",
    "      url='TBD',\n",
    "      author='April Wright',\n",
    "      author_email='april.wright@selu.edu',\n",
    "      license='MIT',\n",
    "      packages=['tefbdparser'],\n",
    "      zip_safe=True)"
   ]
  }
 ],
 "metadata": {
  "kernelspec": {
   "display_name": "Python 3",
   "language": "python",
   "name": "python3"
  },
  "language_info": {
   "codemirror_mode": {
    "name": "ipython",
    "version": 3
   },
   "file_extension": ".py",
   "mimetype": "text/x-python",
   "name": "python",
   "nbconvert_exporter": "python",
   "pygments_lexer": "ipython3",
   "version": "3.6.4"
  }
 },
 "nbformat": 4,
 "nbformat_minor": 2
}
